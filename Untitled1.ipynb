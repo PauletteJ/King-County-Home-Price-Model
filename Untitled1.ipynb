{
 "cells": [
  {
   "cell_type": "code",
   "execution_count": null,
   "metadata": {},
   "outputs": [],
   "source": [
    "# create a database of the Kent and Federal Way zipcodes that were dropped in the previous model\n",
    "df_new.reset_index(drop=True, inplace=True)\n",
    "\n",
    "column_names = df_new.columns\n",
    "df_kent = pd.DataFrame(columns = column_names)\n",
    "for i in range(len(df_new)):\n",
    "    if df_new['zipcode'][i]==98003:\n",
    "        df_kent = df_kent.append(df_new.loc[i], ignore_index=True)\n",
    "for i in range(len(df_new)):\n",
    "    if df_new['zipcode'][i]==98023:\n",
    "        df_kent = df_kent.append(df_new.loc[i], ignore_index=True)\n",
    "for i in range(len(df_new)):\n",
    "    if df_new['zipcode'][i]==98030:\n",
    "        df_kent = df_kent.append(df_new.loc[i], ignore_index=True)\n",
    "for i in range(len(df_new)):\n",
    "    if df_new['zipcode'][i]==98031:\n",
    "        df_kent = df_kent.append(df_new.loc[i], ignore_index=True)\n",
    "for i in range(len(df_new)):\n",
    "    if df_new['zipcode'][i]==98032:\n",
    "        df_kent = df_kent.append(df_new.loc[i], ignore_index=True)\n",
    "for i in range(len(df_new)):\n",
    "    if df_new['zipcode'][i]==98092:\n",
    "        df_kent = df_kent.append(df_new.loc[i], ignore_index=True)\n",
    "for i in range(len(df_new)):\n",
    "    if df_new['zipcode'][i]==98042:\n",
    "        df_kent = df_kent.append(df_new.loc[i], ignore_index=True)\n",
    "        \n",
    "len(df_kent)"
   ]
  },
  {
   "cell_type": "code",
   "execution_count": null,
   "metadata": {},
   "outputs": [],
   "source": [
    "# # df_kent = df_kent.apply(pd.to_numeric)\n",
    "# df_kent[[\"sqft_lot\", \"sqft_living\", \"bedrooms\",\"grade\", \"zipcode\"]] = df_kent[[\"sqft_lot\", \"sqft_living\", \"bedrooms\", \"grade\", \"zipcode\"]].apply(pd.to_numeric)\n",
    "\n",
    "# # log transform sqft_lot, sqft_living\n",
    "# import numpy as np\n",
    "# log_sqft_lot = np.log(df_kent['sqft_lot'])\n",
    "# log_sqft_living = np.log(df_kent['sqft_living'])\n",
    "\n",
    "# # normalize sqft_living and lot\n",
    "# norm_sqft_living = (log_sqft_living - log_sqft_living.mean())/log_sqft_living.std()\n",
    "\n",
    "# norm_sqft_lot = (log_sqft_lot - log_sqft_lot.mean())/log_sqft_lot.std()\n",
    "\n",
    "# # get dummies\n",
    "# bedrooms_dummies = pd.get_dummies(df_kent['bedrooms'], prefix='bdr', drop_first=True)\n",
    "# grade_dummies = pd.get_dummies(df_kent['grade'], prefix='gr', drop_first=True)\n",
    "# zipcode_dummies = pd.get_dummies(df_kent['zipcode'], prefix='zip', drop_first=True)\n",
    "\n",
    "# concatenate final database\n",
    "df_temp = pd.DataFrame([])\n",
    "df_temp['norm_sqft_living'] = norm_sqft_living\n",
    "df_temp['norm_sqft_lot'] = norm_sqft_lot\n",
    "df_revised_final = pd.concat([df_kent['price'], df_temp, bedrooms_dummies, grade_dummies, zipcode_dummies], axis=1)\n",
    "df_revised_final.rename(columns = {0:'price'}, inplace = True)\n",
    "\n",
    "outcome = 'price'\n",
    "predictors = df_kent.drop('price', axis=1)\n",
    "pred_sum = '+'.join(predictors.columns)\n",
    "formula = outcome + '~' + pred_sum\n",
    "\n",
    "model = ols(formula=formula, data=df_kent).fit()\n",
    "model.summary()\n"
   ]
  },
  {
   "cell_type": "code",
   "execution_count": null,
   "metadata": {},
   "outputs": [],
   "source": []
  }
 ],
 "metadata": {
  "kernelspec": {
   "display_name": "Python [conda env:learn-env] *",
   "language": "python",
   "name": "conda-env-learn-env-py"
  },
  "language_info": {
   "codemirror_mode": {
    "name": "ipython",
    "version": 3
   },
   "file_extension": ".py",
   "mimetype": "text/x-python",
   "name": "python",
   "nbconvert_exporter": "python",
   "pygments_lexer": "ipython3",
   "version": "3.6.9"
  }
 },
 "nbformat": 4,
 "nbformat_minor": 2
}
